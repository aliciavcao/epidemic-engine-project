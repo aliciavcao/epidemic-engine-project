{
 "cells": [
  {
   "cell_type": "code",
   "execution_count": 2,
   "metadata": {},
   "outputs": [],
   "source": [
    "\n",
    "from pyspark.sql import SparkSession\n",
    "import pyspark\n",
    "\n",
    "spark = SparkSession.builder \\\n",
    "    .appName(\"first_app\") \\\n",
    "    .config(\"spark.jars.packages\", \"org.apache.spark:spark-sql-kafka-0-10_2.12:3.3.0\") \\\n",
    "    .getOrCreate()\n"
   ]
  },
  {
   "cell_type": "code",
   "execution_count": 3,
   "metadata": {},
   "outputs": [],
   "source": [
    "# Creating the dataframe and subscribing it to the health events topic. We will likely have to create multiple dataframes for the 6 topics\n",
    "\n",
    "\n",
    "df = spark \\\n",
    "  .readStream \\\n",
    "  .format(\"kafka\") \\\n",
    "  .option(\"kafka.bootstrap.servers\", \"44.201.154.178:9092\") \\\n",
    "  .option(\"subscribe\", \"health_events\") \\\n",
    "  .option(\"startingOffsets\", \"latest\") \\\n",
    "  .load()\n",
    "\n"
   ]
  },
  {
   "cell_type": "code",
   "execution_count": null,
   "metadata": {},
   "outputs": [],
   "source": [
    "\n",
    "# A lot of the regular methods you would use on a spark dataframe, because we're using streaming data.\n",
    "#That's why I'm trying to capture a screenshot of the data and save it to a file. \n",
    "#if you can do it in a different way, power to you.\n",
    "\n",
    "from pyspark.sql.functions import *\n",
    "from pyspark.sql.types import *\n",
    "import time \n",
    "\n",
    "\n",
    "query = df.selectExpr(\"CAST(value as STRING)\", \"topic\", \"partition\", \"timestamp\")\\\n",
    "    .writeStream \\\n",
    "    .outputMode(\"append\") \\\n",
    "    .format(\"csv\") \\\n",
    "    .option(\"path\", \"file:///\") \\\n",
    "    .option(\"checkpointLocation\", \"file:///\") \\\n",
    "    .start()\n",
    "timeout_seconds = 20\n",
    "start_time = time.time()\n",
    "while (time.time() - start_time) < timeout_seconds and query.isActive:\n",
    "    time.sleep(1)\n",
    "\n",
    "if query.isActive == True:\n",
    "    query.stop()\n",
    "# # Wait for the query to finish\n",
    "# query.awaitTermination()\n"
   ]
  },
  {
   "cell_type": "markdown",
   "metadata": {},
   "source": []
  }
 ],
 "metadata": {
  "kernelspec": {
   "display_name": "Python 3 (ipykernel)",
   "language": "python",
   "name": "python3"
  },
  "language_info": {
   "codemirror_mode": {
    "name": "ipython",
    "version": 3
   },
   "file_extension": ".py",
   "mimetype": "text/x-python",
   "name": "python",
   "nbconvert_exporter": "python",
   "pygments_lexer": "ipython3",
   "version": "3.10.7"
  }
 },
 "nbformat": 4,
 "nbformat_minor": 2
}
